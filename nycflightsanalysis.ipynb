{
 "cells": [
  {
   "cell_type": "markdown",
   "metadata": {},
   "source": [
    "#import Dependencies"
   ]
  },
  {
   "cell_type": "code",
   "execution_count": 7,
   "metadata": {},
   "outputs": [],
   "source": [
    "import numpy as np\n",
    "import pandas as pd\n",
    "import matplotlib.pyplot as plt\n",
    "%matplotlib inline"
   ]
  },
  {
   "cell_type": "markdown",
   "metadata": {},
   "source": [
    "Load the dataset"
   ]
  },
  {
   "cell_type": "code",
   "execution_count": 8,
   "metadata": {},
   "outputs": [],
   "source": [
    "nyc = pd.read_csv('flight_data.csv')"
   ]
  },
  {
   "cell_type": "markdown",
   "metadata": {},
   "source": [
    "Looking at the data we arrive at below mentioned questions"
   ]
  },
  {
   "cell_type": "markdown",
   "metadata": {},
   "source": [
    "Check for data shape, dtypes, info"
   ]
  },
  {
   "cell_type": "code",
   "execution_count": 10,
   "metadata": {},
   "outputs": [
    {
     "data": {
      "text/plain": [
       "(336776, 19)"
      ]
     },
     "execution_count": 10,
     "metadata": {},
     "output_type": "execute_result"
    }
   ],
   "source": [
    "nyc.shape"
   ]
  },
  {
   "cell_type": "markdown",
   "metadata": {},
   "source": [
    "How Many Unique Destinations are there and what are they?"
   ]
  },
  {
   "cell_type": "code",
   "execution_count": 11,
   "metadata": {},
   "outputs": [
    {
     "name": "stdout",
     "output_type": "stream",
     "text": [
      "105\n",
      "['IAH' 'MIA' 'BQN' 'ATL' 'ORD' 'FLL' 'IAD' 'MCO' 'PBI' 'TPA' 'LAX' 'SFO'\n",
      " 'DFW' 'BOS' 'LAS' 'MSP' 'DTW' 'RSW' 'SJU' 'PHX' 'BWI' 'CLT' 'BUF' 'DEN'\n",
      " 'SNA' 'MSY' 'SLC' 'XNA' 'MKE' 'SEA' 'ROC' 'SYR' 'SRQ' 'RDU' 'CMH' 'JAX'\n",
      " 'CHS' 'MEM' 'PIT' 'SAN' 'DCA' 'CLE' 'STL' 'MYR' 'JAC' 'MDW' 'HNL' 'BNA'\n",
      " 'AUS' 'BTV' 'PHL' 'STT' 'EGE' 'AVL' 'PWM' 'IND' 'SAV' 'CAK' 'HOU' 'LGB'\n",
      " 'DAY' 'ALB' 'BDL' 'MHT' 'MSN' 'GSO' 'CVG' 'BUR' 'RIC' 'GSP' 'GRR' 'MCI'\n",
      " 'ORF' 'SAT' 'SDF' 'PDX' 'SJC' 'OMA' 'CRW' 'OAK' 'SMF' 'TUL' 'TYS' 'OKC'\n",
      " 'PVD' 'DSM' 'PSE' 'BHM' 'CAE' 'HDN' 'BZN' 'MTJ' 'EYW' 'PSP' 'ACK' 'BGR'\n",
      " 'ABQ' 'ILM' 'MVY' 'SBN' 'LEX' 'CHO' 'TVC' 'ANC' 'LGA']\n"
     ]
    }
   ],
   "source": [
    "unique = len(nyc.dest.unique())\n",
    "destin = nyc.dest.unique()\n",
    "print(unique)\n",
    "print(destin)"
   ]
  },
  {
   "cell_type": "markdown",
   "metadata": {},
   "source": [
    "How many flights were there from NYC to LAX in 2013?"
   ]
  },
  {
   "cell_type": "code",
   "execution_count": 12,
   "metadata": {},
   "outputs": [
    {
     "name": "stdout",
     "output_type": "stream",
     "text": [
      "16174\n"
     ]
    }
   ],
   "source": [
    "flights = len(nyc[nyc.dest=='LAX'])\n",
    "print(flights)"
   ]
  },
  {
   "cell_type": "markdown",
   "metadata": {},
   "source": [
    "How many airlines operate from NYC to LAX?"
   ]
  },
  {
   "cell_type": "code",
   "execution_count": 13,
   "metadata": {},
   "outputs": [
    {
     "name": "stdout",
     "output_type": "stream",
     "text": [
      "5\n"
     ]
    }
   ],
   "source": [
    "airlines = len(nyc[nyc.dest=='LAX'].groupby(nyc['carrier']))\n",
    "print(airlines)"
   ]
  },
  {
   "cell_type": "markdown",
   "metadata": {},
   "source": [
    "How many unique airlines fly from NYC?"
   ]
  },
  {
   "cell_type": "code",
   "execution_count": 14,
   "metadata": {},
   "outputs": [
    {
     "name": "stdout",
     "output_type": "stream",
     "text": [
      "991\n"
     ]
    }
   ],
   "source": [
    "flights = len(nyc[nyc.dest=='LAX'].groupby(nyc['tailnum']))\n",
    "print(flights)"
   ]
  },
  {
   "cell_type": "markdown",
   "metadata": {},
   "source": [
    "What is the average arrival delay at LAX?"
   ]
  },
  {
   "cell_type": "code",
   "execution_count": 16,
   "metadata": {},
   "outputs": [
    {
     "name": "stdout",
     "output_type": "stream",
     "text": [
      "The average arrival delay is: 33\n"
     ]
    }
   ],
   "source": [
    "a_delay = nyc[nyc.dest=='LAX']\n",
    "de = round(a_delay['arr_delay'].mean() * 60)\n",
    "print('The average arrival delay is:', de)"
   ]
  },
  {
   "cell_type": "markdown",
   "metadata": {},
   "source": [
    "What proportions of flights fly to LAX from each NYC airport?"
   ]
  },
  {
   "cell_type": "code",
   "execution_count": 17,
   "metadata": {},
   "outputs": [
    {
     "name": "stdout",
     "output_type": "stream",
     "text": [
      "The proportion of flights flying to LAX from each NYC airport is: origin\n",
      "EWR       30.369729\n",
      "JFK       69.630271\n",
      "total    100.000000\n",
      "dtype: float64\n"
     ]
    }
   ],
   "source": [
    "pflight = nyc[nyc.dest=='LAX'].groupby(nyc['origin']).size()\n",
    "pflight['total'] = len(nyc[nyc.dest=='LAX'])\n",
    "prop = pflight / pflight['total'] * 100\n",
    "print('The proportion of flights flying to LAX from each NYC airport is:', prop)"
   ]
  },
  {
   "cell_type": "markdown",
   "metadata": {},
   "source": [
    "Which date has the largest average departure delay?"
   ]
  },
  {
   "cell_type": "code",
   "execution_count": 18,
   "metadata": {},
   "outputs": [
    {
     "name": "stdout",
     "output_type": "stream",
     "text": [
      "           dep_delay\n",
      "day month           \n",
      "8   3      83.536921\n"
     ]
    }
   ],
   "source": [
    "d_delay = pd.DataFrame(nyc['dep_delay'].groupby([nyc['day'],nyc['month']]).mean())\n",
    "d_delay = d_delay.sort_values(['dep_delay'],ascending = False)\n",
    "print(d_delay.head(1))"
   ]
  },
  {
   "cell_type": "markdown",
   "metadata": {},
   "source": [
    "Which date has the largest average arrival delay?"
   ]
  },
  {
   "cell_type": "code",
   "execution_count": 34,
   "metadata": {},
   "outputs": [
    {
     "data": {
      "text/html": [
       "<div>\n",
       "<style scoped>\n",
       "    .dataframe tbody tr th:only-of-type {\n",
       "        vertical-align: middle;\n",
       "    }\n",
       "\n",
       "    .dataframe tbody tr th {\n",
       "        vertical-align: top;\n",
       "    }\n",
       "\n",
       "    .dataframe thead th {\n",
       "        text-align: right;\n",
       "    }\n",
       "</style>\n",
       "<table border=\"1\" class=\"dataframe\">\n",
       "  <thead>\n",
       "    <tr style=\"text-align: right;\">\n",
       "      <th></th>\n",
       "      <th></th>\n",
       "      <th>arr_delay</th>\n",
       "    </tr>\n",
       "    <tr>\n",
       "      <th>day</th>\n",
       "      <th>month</th>\n",
       "      <th></th>\n",
       "    </tr>\n",
       "  </thead>\n",
       "  <tbody>\n",
       "    <tr>\n",
       "      <th>8</th>\n",
       "      <th>3</th>\n",
       "      <td>85.862155</td>\n",
       "    </tr>\n",
       "  </tbody>\n",
       "</table>\n",
       "</div>"
      ],
      "text/plain": [
       "           arr_delay\n",
       "day month           \n",
       "8   3      85.862155"
      ]
     },
     "execution_count": 34,
     "metadata": {},
     "output_type": "execute_result"
    }
   ],
   "source": [
    "a_delay = pd.DataFrame(nyc['arr_delay'].groupby([nyc['day'],nyc['month']]).mean())\n",
    "a_delay = a_delay.sort_values(['arr_delay'],ascending=False)\n",
    "a_delay.head(1)"
   ]
  },
  {
   "cell_type": "markdown",
   "metadata": {},
   "source": [
    "What was the worst day to fly out of NYC"
   ]
  },
  {
   "cell_type": "code",
   "execution_count": 35,
   "metadata": {
    "scrolled": true
   },
   "outputs": [
    {
     "data": {
      "text/html": [
       "<div>\n",
       "<style scoped>\n",
       "    .dataframe tbody tr th:only-of-type {\n",
       "        vertical-align: middle;\n",
       "    }\n",
       "\n",
       "    .dataframe tbody tr th {\n",
       "        vertical-align: top;\n",
       "    }\n",
       "\n",
       "    .dataframe thead th {\n",
       "        text-align: right;\n",
       "    }\n",
       "</style>\n",
       "<table border=\"1\" class=\"dataframe\">\n",
       "  <thead>\n",
       "    <tr style=\"text-align: right;\">\n",
       "      <th></th>\n",
       "      <th></th>\n",
       "      <th>year</th>\n",
       "      <th>month</th>\n",
       "      <th>day</th>\n",
       "      <th>dep_time</th>\n",
       "      <th>sched_dep_time</th>\n",
       "      <th>dep_delay</th>\n",
       "      <th>arr_time</th>\n",
       "      <th>sched_arr_time</th>\n",
       "      <th>arr_delay</th>\n",
       "      <th>carrier</th>\n",
       "      <th>flight</th>\n",
       "      <th>tailnum</th>\n",
       "      <th>origin</th>\n",
       "      <th>dest</th>\n",
       "      <th>air_time</th>\n",
       "      <th>distance</th>\n",
       "      <th>hour</th>\n",
       "      <th>minute</th>\n",
       "      <th>time_hour</th>\n",
       "    </tr>\n",
       "    <tr>\n",
       "      <th>day</th>\n",
       "      <th>month</th>\n",
       "      <th></th>\n",
       "      <th></th>\n",
       "      <th></th>\n",
       "      <th></th>\n",
       "      <th></th>\n",
       "      <th></th>\n",
       "      <th></th>\n",
       "      <th></th>\n",
       "      <th></th>\n",
       "      <th></th>\n",
       "      <th></th>\n",
       "      <th></th>\n",
       "      <th></th>\n",
       "      <th></th>\n",
       "      <th></th>\n",
       "      <th></th>\n",
       "      <th></th>\n",
       "      <th></th>\n",
       "      <th></th>\n",
       "    </tr>\n",
       "  </thead>\n",
       "  <tbody>\n",
       "    <tr>\n",
       "      <th>23</th>\n",
       "      <th>12</th>\n",
       "      <td>710</td>\n",
       "      <td>710</td>\n",
       "      <td>710</td>\n",
       "      <td>710</td>\n",
       "      <td>710</td>\n",
       "      <td>710</td>\n",
       "      <td>709</td>\n",
       "      <td>710</td>\n",
       "      <td>708</td>\n",
       "      <td>710</td>\n",
       "      <td>710</td>\n",
       "      <td>710</td>\n",
       "      <td>710</td>\n",
       "      <td>710</td>\n",
       "      <td>708</td>\n",
       "      <td>710</td>\n",
       "      <td>710</td>\n",
       "      <td>710</td>\n",
       "      <td>710</td>\n",
       "    </tr>\n",
       "  </tbody>\n",
       "</table>\n",
       "</div>"
      ],
      "text/plain": [
       "           year  month  day  dep_time  sched_dep_time  dep_delay  arr_time  \\\n",
       "day month                                                                    \n",
       "23  12      710    710  710       710             710        710       709   \n",
       "\n",
       "           sched_arr_time  arr_delay  carrier  flight  tailnum  origin  dest  \\\n",
       "day month                                                                      \n",
       "23  12                710        708      710     710      710     710   710   \n",
       "\n",
       "           air_time  distance  hour  minute  time_hour  \n",
       "day month                                               \n",
       "23  12          708       710   710     710        710  "
      ]
     },
     "execution_count": 35,
     "metadata": {},
     "output_type": "execute_result"
    }
   ],
   "source": [
    "w_delay = pd.DataFrame(nyc[nyc.dep_delay >= 0].groupby([nyc['day'],nyc['month']]).count())\n",
    "w1_delay = w_delay.sort_values(['dep_delay'],ascending=False)\n",
    "w1_delay.head(1)"
   ]
  },
  {
   "cell_type": "markdown",
   "metadata": {},
   "source": [
    "Do we see any trend in the departure delays for flights from NYC?"
   ]
  },
  {
   "cell_type": "code",
   "execution_count": 37,
   "metadata": {},
   "outputs": [
    {
     "name": "stdout",
     "output_type": "stream",
     "text": [
      "       dep_delay\n",
      "month           \n",
      "1      10.036665\n",
      "2      10.816843\n",
      "3      13.227076\n",
      "4      13.938038\n",
      "5      12.986859\n",
      "6      20.846332\n",
      "7      21.727787\n",
      "8      12.611040\n",
      "9       6.722476\n",
      "10      6.243988\n",
      "11      5.435362\n",
      "12     16.576688\n"
     ]
    },
    {
     "data": {
      "text/plain": [
       "<matplotlib.axes._subplots.AxesSubplot at 0x4ff8940>"
      ]
     },
     "execution_count": 37,
     "metadata": {},
     "output_type": "execute_result"
    },
    {
     "data": {
      "image/png": "[encoded data removed]",
      "text/plain": [
       "<Figure size 432x288 with 1 Axes>"
      ]
     },
     "metadata": {},
     "output_type": "display_data"
    }
   ],
   "source": [
    "trend = pd.DataFrame(nyc['dep_delay'].groupby(nyc['month']).mean())\n",
    "print(trend)\n",
    "\n",
    "trend.plot()"
   ]
  },
  {
   "cell_type": "markdown",
   "metadata": {},
   "source": [
    "We can see that the period from SEP-NOV has the lowest departure delays. and the departure delays seem to shoot up in december possibly due to the X-mas festival."
   ]
  },
  {
   "cell_type": "markdown",
   "metadata": {},
   "source": [
    "How does departure delay varies over the course of the day?"
   ]
  },
  {
   "cell_type": "code",
   "execution_count": 38,
   "metadata": {
    "scrolled": true
   },
   "outputs": [
    {
     "data": {
      "text/plain": [
       "<matplotlib.axes._subplots.AxesSubplot at 0x9d09d30>"
      ]
     },
     "execution_count": 38,
     "metadata": {},
     "output_type": "execute_result"
    },
    {
     "data": {
      "image/png": "[encoded data removed]",
      "text/plain": [
       "<Figure size 432x288 with 1 Axes>"
      ]
     },
     "metadata": {},
     "output_type": "display_data"
    }
   ],
   "source": [
    "delay_h = pd.DataFrame(nyc['dep_delay'].groupby(nyc['hour']).mean())\n",
    "delay_h.plot()"
   ]
  },
  {
   "cell_type": "markdown",
   "metadata": {},
   "source": [
    "We can see that the evening flights are having more delay than the flights compared to morning."
   ]
  },
  {
   "cell_type": "markdown",
   "metadata": {},
   "source": [
    "Which is the fastest flying aircraft?"
   ]
  },
  {
   "cell_type": "code",
   "execution_count": 39,
   "metadata": {},
   "outputs": [
    {
     "data": {
      "text/html": [
       "<div>\n",
       "<style scoped>\n",
       "    .dataframe tbody tr th:only-of-type {\n",
       "        vertical-align: middle;\n",
       "    }\n",
       "\n",
       "    .dataframe tbody tr th {\n",
       "        vertical-align: top;\n",
       "    }\n",
       "\n",
       "    .dataframe thead th {\n",
       "        text-align: right;\n",
       "    }\n",
       "</style>\n",
       "<table border=\"1\" class=\"dataframe\">\n",
       "  <thead>\n",
       "    <tr style=\"text-align: right;\">\n",
       "      <th></th>\n",
       "      <th>tailnum</th>\n",
       "      <th>carrier</th>\n",
       "      <th>speed</th>\n",
       "    </tr>\n",
       "  </thead>\n",
       "  <tbody>\n",
       "    <tr>\n",
       "      <th>216447</th>\n",
       "      <td>N666DN</td>\n",
       "      <td>DL</td>\n",
       "      <td>703.0</td>\n",
       "    </tr>\n",
       "  </tbody>\n",
       "</table>\n",
       "</div>"
      ],
      "text/plain": [
       "       tailnum carrier  speed\n",
       "216447  N666DN      DL  703.0"
      ]
     },
     "execution_count": 39,
     "metadata": {},
     "output_type": "execute_result"
    }
   ],
   "source": [
    "fastest = pd.DataFrame(nyc,columns=['tailnum','carrier'])\n",
    "fastest['speed'] = round(nyc['distance'] / nyc['air_time'] * 60)\n",
    "fastest = fastest.sort_values(['speed'],ascending=False)\n",
    "fastest.head(1)"
   ]
  },
  {
   "cell_type": "markdown",
   "metadata": {},
   "source": [
    "Which destinations have flights everyday?"
   ]
  },
  {
   "cell_type": "code",
   "execution_count": 40,
   "metadata": {},
   "outputs": [
    {
     "name": "stdout",
     "output_type": "stream",
     "text": [
      "Daily flights that fly are:                        count\n",
      "origin flight carrier       \n",
      "LGA    371    B6         365\n",
      "JFK    181    AA         365\n",
      "       407    VX         365\n",
      "       1357   AA         365\n",
      "       359    B6         365\n",
      "       251    VX         365\n",
      "       1783   B6         365\n",
      "       219    B6         365\n",
      "       145    AA         365\n",
      "       413    VX         365\n",
      "       135    B6         365\n",
      "LGA    1611   AA         365\n",
      "JFK    5712   EV         365\n",
      "       2159   DL         365\n",
      "       2391   DL         365\n",
      "       59     AA         365\n",
      "       411    VX         365\n",
      "LGA    431    B6         365\n",
      "JFK    703    B6         365\n",
      "EWR    119    AA         365\n",
      "       15     UA         365\n"
     ]
    }
   ],
   "source": [
    "daily = pd.DataFrame(nyc['dest'].groupby([nyc['origin'],nyc['flight'],nyc['carrier']]).size().rename('count'))\n",
    "daily = daily.sort_values(['count'],ascending=False)\n",
    "freq = daily[daily['count']==365]\n",
    "print('Daily flights that fly are:', freq)"
   ]
  },
  {
   "cell_type": "markdown",
   "metadata": {},
   "source": [
    "On an average how many flights depart from each of the aiports at NY and \n",
    "is there any association with the number of flights departing from the \n",
    "airport and the delays associated with each aiport, carriers and \n",
    "flight duration? Can we predict the delay of flights based on such factors?"
   ]
  },
  {
   "cell_type": "code",
   "execution_count": 42,
   "metadata": {},
   "outputs": [
    {
     "data": {
      "text/plain": [
       "<matplotlib.axes._subplots.AxesSubplot at 0xa4f5588>"
      ]
     },
     "execution_count": 42,
     "metadata": {},
     "output_type": "execute_result"
    },
    {
     "data": {
      "image/png": "[encoded data removed]",
      "text/plain": [
       "<Figure size 432x288 with 1 Axes>"
      ]
     },
     "metadata": {},
     "output_type": "display_data"
    },
    {
     "data": {
      "image/png": "[encoded data removed]",
      "text/plain": [
       "<Figure size 432x288 with 1 Axes>"
      ]
     },
     "metadata": {},
     "output_type": "display_data"
    },
    {
     "data": {
      "image/png": "[encoded data removed]",
      "text/plain": [
       "<Figure size 432x288 with 1 Axes>"
      ]
     },
     "metadata": {},
     "output_type": "display_data"
    },
    {
     "data": {
      "image/png": "[encoded data removed]",
      "text/plain": [
       "<Figure size 432x288 with 1 Axes>"
      ]
     },
     "metadata": {},
     "output_type": "display_data"
    },
    {
     "data": {
      "image/png": "[encoded data removed]",
      "text/plain": [
       "<Figure size 432x288 with 1 Axes>"
      ]
     },
     "metadata": {},
     "output_type": "display_data"
    },
    {
     "data": {
      "image/png": "[encoded data removed]",
      "text/plain": [
       "<Figure size 432x288 with 1 Axes>"
      ]
     },
     "metadata": {},
     "output_type": "display_data"
    }
   ],
   "source": [
    "# Number of flights from each airport\n",
    "df = nyc\n",
    "df1 = pd.DataFrame(df.groupby('origin').size())\n",
    "df1.plot(color='r')\n",
    "\n",
    "# Average arrival delay from each airport\n",
    "df2 = pd.DataFrame(df.groupby('origin')['arr_delay'].mean())\n",
    "df2.plot(color='y')\n",
    "\n",
    "\n",
    "# Average departure delay from each airport\n",
    "df3 = pd.DataFrame(df.groupby('origin')['dep_delay'].mean())\n",
    "df3.plot(color='b')\n",
    "\n",
    "\n",
    "# Average airtime for each airport\n",
    "df4 = pd.DataFrame(df.groupby('origin')['air_time'].mean())\n",
    "df4.plot(kind='bar',color='r')\n",
    "\n",
    "\n",
    "#Plot the relation between air time and departure delay\n",
    "fig = plt.figure()\n",
    "plt.scatter(df['air_time'],df['dep_delay'])\n",
    "plt.xlabel('Air Time')\n",
    "plt.ylabel('Departure delays')\n",
    "plt.title('Relation b/w Air time and departure delays')\n",
    "\n",
    "#Plot the relation between carriers and average departure delay\n",
    "\n",
    "df5 = pd.DataFrame(df.groupby('carrier')['dep_delay'].mean())\n",
    "df5.plot(kind = 'bar', color = 'm')\n"
   ]
  },
  {
   "cell_type": "markdown",
   "metadata": {},
   "source": [
    "We can see that the departure delays are closely correlated with each other. EWR is the busiest airport and has highest delays because of high number of flights. We can see from scatter plot that as the airtime increases the delay shifts to little lower side. we can see that JFK has the highest air time, hence delay is little lesser than EWR.\n",
    "\n",
    "The carriers EV, F9 have the highest departure delays and carriers such as US, HA have the lowest departure delays.\n",
    "Since EWR experiences highest delays passengers can avoid this airport."
   ]
  }
 ],
 "metadata": {
  "kernelspec": {
   "display_name": "Python 3",
   "language": "python",
   "name": "python3"
  },
  "language_info": {
   "codemirror_mode": {
    "name": "ipython",
    "version": 3
   },
   "file_extension": ".py",
   "mimetype": "text/x-python",
   "name": "python",
   "nbconvert_exporter": "python",
   "pygments_lexer": "ipython3",
   "version": "3.6.5"
  }
 },
 "nbformat": 4,
 "nbformat_minor": 2
}
